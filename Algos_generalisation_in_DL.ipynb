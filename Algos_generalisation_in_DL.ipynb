{
  "nbformat": 4,
  "nbformat_minor": 0,
  "metadata": {
    "colab": {
      "name": "Algos generalisation in DL.ipynb",
      "provenance": [],
      "collapsed_sections": [],
      "toc_visible": true
    },
    "kernelspec": {
      "name": "python3",
      "display_name": "Python 3"
    },
    "accelerator": "GPU",
    "widgets": {
      "application/vnd.jupyter.widget-state+json": {
        "baf40ed1ecf94eb39be900f408bb3405": {
          "model_module": "@jupyter-widgets/controls",
          "model_name": "HBoxModel",
          "state": {
            "_view_name": "HBoxView",
            "_dom_classes": [],
            "_model_name": "HBoxModel",
            "_view_module": "@jupyter-widgets/controls",
            "_model_module_version": "1.5.0",
            "_view_count": null,
            "_view_module_version": "1.5.0",
            "box_style": "",
            "layout": "IPY_MODEL_8b62ed67b4b5493a8a5a2c63d9d37e23",
            "_model_module": "@jupyter-widgets/controls",
            "children": [
              "IPY_MODEL_46164b7f72fc4031a1bb8904a6ffdb07",
              "IPY_MODEL_01dbabea432c4f24a5302176e3da1adf"
            ]
          }
        },
        "8b62ed67b4b5493a8a5a2c63d9d37e23": {
          "model_module": "@jupyter-widgets/base",
          "model_name": "LayoutModel",
          "state": {
            "_view_name": "LayoutView",
            "grid_template_rows": null,
            "right": null,
            "justify_content": null,
            "_view_module": "@jupyter-widgets/base",
            "overflow": null,
            "_model_module_version": "1.2.0",
            "_view_count": null,
            "flex_flow": null,
            "width": null,
            "min_width": null,
            "border": null,
            "align_items": null,
            "bottom": null,
            "_model_module": "@jupyter-widgets/base",
            "top": null,
            "grid_column": null,
            "overflow_y": null,
            "overflow_x": null,
            "grid_auto_flow": null,
            "grid_area": null,
            "grid_template_columns": null,
            "flex": null,
            "_model_name": "LayoutModel",
            "justify_items": null,
            "grid_row": null,
            "max_height": null,
            "align_content": null,
            "visibility": null,
            "align_self": null,
            "height": null,
            "min_height": null,
            "padding": null,
            "grid_auto_rows": null,
            "grid_gap": null,
            "max_width": null,
            "order": null,
            "_view_module_version": "1.2.0",
            "grid_template_areas": null,
            "object_position": null,
            "object_fit": null,
            "grid_auto_columns": null,
            "margin": null,
            "display": null,
            "left": null
          }
        },
        "46164b7f72fc4031a1bb8904a6ffdb07": {
          "model_module": "@jupyter-widgets/controls",
          "model_name": "FloatProgressModel",
          "state": {
            "_view_name": "ProgressView",
            "style": "IPY_MODEL_fa9afc4d2ba04632baa2f991d4e65619",
            "_dom_classes": [],
            "description": "",
            "_model_name": "FloatProgressModel",
            "bar_style": "success",
            "max": 170498071,
            "_view_module": "@jupyter-widgets/controls",
            "_model_module_version": "1.5.0",
            "value": 170498071,
            "_view_count": null,
            "_view_module_version": "1.5.0",
            "orientation": "horizontal",
            "min": 0,
            "description_tooltip": null,
            "_model_module": "@jupyter-widgets/controls",
            "layout": "IPY_MODEL_491370c7d5b64a03a7ffd6c21c2b3ae2"
          }
        },
        "01dbabea432c4f24a5302176e3da1adf": {
          "model_module": "@jupyter-widgets/controls",
          "model_name": "HTMLModel",
          "state": {
            "_view_name": "HTMLView",
            "style": "IPY_MODEL_4492e67859d7437e9e23dfd1bb77eba3",
            "_dom_classes": [],
            "description": "",
            "_model_name": "HTMLModel",
            "placeholder": "​",
            "_view_module": "@jupyter-widgets/controls",
            "_model_module_version": "1.5.0",
            "value": " 170499072/? [00:10&lt;00:00, 16382356.21it/s]",
            "_view_count": null,
            "_view_module_version": "1.5.0",
            "description_tooltip": null,
            "_model_module": "@jupyter-widgets/controls",
            "layout": "IPY_MODEL_8e3a0468604a4da9acc06ef958df0c5c"
          }
        },
        "fa9afc4d2ba04632baa2f991d4e65619": {
          "model_module": "@jupyter-widgets/controls",
          "model_name": "ProgressStyleModel",
          "state": {
            "_view_name": "StyleView",
            "_model_name": "ProgressStyleModel",
            "description_width": "initial",
            "_view_module": "@jupyter-widgets/base",
            "_model_module_version": "1.5.0",
            "_view_count": null,
            "_view_module_version": "1.2.0",
            "bar_color": null,
            "_model_module": "@jupyter-widgets/controls"
          }
        },
        "491370c7d5b64a03a7ffd6c21c2b3ae2": {
          "model_module": "@jupyter-widgets/base",
          "model_name": "LayoutModel",
          "state": {
            "_view_name": "LayoutView",
            "grid_template_rows": null,
            "right": null,
            "justify_content": null,
            "_view_module": "@jupyter-widgets/base",
            "overflow": null,
            "_model_module_version": "1.2.0",
            "_view_count": null,
            "flex_flow": null,
            "width": null,
            "min_width": null,
            "border": null,
            "align_items": null,
            "bottom": null,
            "_model_module": "@jupyter-widgets/base",
            "top": null,
            "grid_column": null,
            "overflow_y": null,
            "overflow_x": null,
            "grid_auto_flow": null,
            "grid_area": null,
            "grid_template_columns": null,
            "flex": null,
            "_model_name": "LayoutModel",
            "justify_items": null,
            "grid_row": null,
            "max_height": null,
            "align_content": null,
            "visibility": null,
            "align_self": null,
            "height": null,
            "min_height": null,
            "padding": null,
            "grid_auto_rows": null,
            "grid_gap": null,
            "max_width": null,
            "order": null,
            "_view_module_version": "1.2.0",
            "grid_template_areas": null,
            "object_position": null,
            "object_fit": null,
            "grid_auto_columns": null,
            "margin": null,
            "display": null,
            "left": null
          }
        },
        "4492e67859d7437e9e23dfd1bb77eba3": {
          "model_module": "@jupyter-widgets/controls",
          "model_name": "DescriptionStyleModel",
          "state": {
            "_view_name": "StyleView",
            "_model_name": "DescriptionStyleModel",
            "description_width": "",
            "_view_module": "@jupyter-widgets/base",
            "_model_module_version": "1.5.0",
            "_view_count": null,
            "_view_module_version": "1.2.0",
            "_model_module": "@jupyter-widgets/controls"
          }
        },
        "8e3a0468604a4da9acc06ef958df0c5c": {
          "model_module": "@jupyter-widgets/base",
          "model_name": "LayoutModel",
          "state": {
            "_view_name": "LayoutView",
            "grid_template_rows": null,
            "right": null,
            "justify_content": null,
            "_view_module": "@jupyter-widgets/base",
            "overflow": null,
            "_model_module_version": "1.2.0",
            "_view_count": null,
            "flex_flow": null,
            "width": null,
            "min_width": null,
            "border": null,
            "align_items": null,
            "bottom": null,
            "_model_module": "@jupyter-widgets/base",
            "top": null,
            "grid_column": null,
            "overflow_y": null,
            "overflow_x": null,
            "grid_auto_flow": null,
            "grid_area": null,
            "grid_template_columns": null,
            "flex": null,
            "_model_name": "LayoutModel",
            "justify_items": null,
            "grid_row": null,
            "max_height": null,
            "align_content": null,
            "visibility": null,
            "align_self": null,
            "height": null,
            "min_height": null,
            "padding": null,
            "grid_auto_rows": null,
            "grid_gap": null,
            "max_width": null,
            "order": null,
            "_view_module_version": "1.2.0",
            "grid_template_areas": null,
            "object_position": null,
            "object_fit": null,
            "grid_auto_columns": null,
            "margin": null,
            "display": null,
            "left": null
          }
        }
      }
    }
  },
  "cells": [
    {
      "cell_type": "markdown",
      "metadata": {
        "id": "uXK6GQ5ZmBau"
      },
      "source": [
        "# Introduction\n",
        "\n",
        "The goal of this project is to study the generalisation of optimization algorithms in Deep Learning. For that we worked on the problem of classification of [CIFAR-10 dataset](https://www.cs.toronto.edu/~kriz/cifar.html). It provides 60000 32x32-pixel images, classified into 10 categories.\n",
        "We built 2 CNNs for the approximation. One of the neural networks used is from a [Pytorch tutorial](https://pytorch.org/tutorials/recipes/recipes/zeroing_out_gradients.html)"
      ]
    },
    {
      "cell_type": "markdown",
      "metadata": {
        "id": "Ua3jQQ2ZFaUp"
      },
      "source": [
        "# Imports"
      ]
    },
    {
      "cell_type": "code",
      "metadata": {
        "id": "jRZ7eSrZVx41"
      },
      "source": [
        "import torch\n",
        "import torchvision\n",
        "import torchvision.transforms as transforms\n",
        "from torch.autograd import Variable, grad\n",
        "import torch.nn as nn\n",
        "import torch.nn.functional as F \n",
        "import torch.optim as optim\n",
        "import random\n",
        "import matplotlib.pyplot as plt\n",
        "import numpy as np\n",
        "from torch.optim.optimizer import Optimizer\n",
        "import seaborn as sns"
      ],
      "execution_count": null,
      "outputs": []
    },
    {
      "cell_type": "markdown",
      "metadata": {
        "id": "8XScvaNWGuWx"
      },
      "source": [
        "# Download the dataset"
      ]
    },
    {
      "cell_type": "code",
      "metadata": {
        "id": "oh6MsmyzGi-7",
        "colab": {
          "base_uri": "https://localhost:8080/",
          "height": 257,
          "referenced_widgets": [
            "baf40ed1ecf94eb39be900f408bb3405",
            "8b62ed67b4b5493a8a5a2c63d9d37e23",
            "46164b7f72fc4031a1bb8904a6ffdb07",
            "01dbabea432c4f24a5302176e3da1adf",
            "fa9afc4d2ba04632baa2f991d4e65619",
            "491370c7d5b64a03a7ffd6c21c2b3ae2",
            "4492e67859d7437e9e23dfd1bb77eba3",
            "8e3a0468604a4da9acc06ef958df0c5c"
          ]
        },
        "outputId": "c9992329-e012-4930-8fb7-5655f1213530"
      },
      "source": [
        "transform = transforms.Compose(\n",
        "\t[transforms.ToTensor(),\n",
        "\ttransforms.Normalize((0.5, 0.5, 0.5), (0.5, 0.5, 0.5))])\n",
        "\n",
        "trainset = torchvision.datasets.CIFAR10(root='./data', train=True,\n",
        "\t\t\t\t\t\t\t\t\t\tdownload=True, transform=transform)\n",
        "trainloader = torch.utils.data.DataLoader(trainset, batch_size=4,\n",
        "\t\t\t\t\t\t\t\t\t\t\tshuffle=True, num_workers=2)\n",
        "\n",
        "testset = torchvision.datasets.CIFAR10(root='./data', train=False,\n",
        "\t\t\t\t\t\t\t\t\t\tdownload=True, transform=transform)\n",
        "\n",
        "testloader = torch.utils.data.DataLoader(testset, batch_size=4,\n",
        "\t\t\t\t\t\t\t\t\t\t\tshuffle=True, num_workers=2)\n",
        "\n",
        "classes = ('plane', 'car', 'bird', 'cat',\n",
        "\t\t\t'deer', 'dog', 'frog', 'horse', 'ship', 'truck')\n",
        "\n",
        "def imshow(img):\n",
        "    img = img / 2 + 0.5     # unnormalize\n",
        "    npimg = img.numpy()\n",
        "    plt.imshow(np.transpose(npimg, (1, 2, 0)))\n",
        "\n",
        "\n",
        "# get some random training images\n",
        "dataiter = iter(trainloader)\n",
        "images, labels = dataiter.next()\n",
        "\n",
        "# show images\n",
        "imshow(torchvision.utils.make_grid(images))\n",
        "# print labels\n",
        "print(' '.join('%5s' % classes[labels[j]] for j in range(4)))\n",
        "plt.show()"
      ],
      "execution_count": null,
      "outputs": [
        {
          "output_type": "stream",
          "text": [
            "Downloading https://www.cs.toronto.edu/~kriz/cifar-10-python.tar.gz to ./data/cifar-10-python.tar.gz\n"
          ],
          "name": "stdout"
        },
        {
          "output_type": "display_data",
          "data": {
            "application/vnd.jupyter.widget-view+json": {
              "model_id": "baf40ed1ecf94eb39be900f408bb3405",
              "version_minor": 0,
              "version_major": 2
            },
            "text/plain": [
              "HBox(children=(FloatProgress(value=0.0, max=170498071.0), HTML(value='')))"
            ]
          },
          "metadata": {
            "tags": []
          }
        },
        {
          "output_type": "stream",
          "text": [
            "\n",
            "Extracting ./data/cifar-10-python.tar.gz to ./data\n",
            "Files already downloaded and verified\n",
            "  car  frog plane  bird\n"
          ],
          "name": "stdout"
        },
        {
          "output_type": "display_data",
          "data": {
            "image/png": "[encoded data removed]",
            "text/plain": [
              "<Figure size 432x288 with 1 Axes>"
            ]
          },
          "metadata": {
            "tags": [],
            "needs_background": "light"
          }
        }
      ]
    },
    {
      "cell_type": "markdown",
      "metadata": {
        "id": "YCiwmWmeH17X"
      },
      "source": [
        "# Implementation of optimizers"
      ]
    },
    {
      "cell_type": "markdown",
      "metadata": {
        "id": "t-jl1VuGIcGI"
      },
      "source": [
        "## SAG"
      ]
    },
    {
      "cell_type": "code",
      "metadata": {
        "id": "BuHf30FpIesx"
      },
      "source": [
        "class SAG(Optimizer):\n",
        "\n",
        "  def __init__(self, params, lr=0.1, n=100, decay=1e-6):\n",
        "    if lr <= 0.0:\n",
        "      raise ValueError(\"Invalid learning rate: {}\".format(lr))\n",
        "    \n",
        "    defaults = dict(lr=lr, decay=decay)\n",
        "    self.batch_num = 0\n",
        "    self.n_sample = n\n",
        "    super(SAG, self).__init__(params, defaults)\n",
        "\n",
        "\n",
        "  def set_batch_num(self, n):\n",
        "    self.batch_num = n\n",
        "  \n",
        "\n",
        "  @torch.no_grad()\n",
        "  def step(self, closure=None):\n",
        "\n",
        "    loss = None\n",
        "    for group in self.param_groups:\n",
        "      for p in group['params']:\n",
        "        if p.grad is None:\n",
        "          continue\n",
        "        grad = p.grad\n",
        "        if grad.is_sparse:\n",
        "          raise RuntimeError(\"SAG does not support sparse gradients\")\n",
        "        \n",
        "        p_state = self.state[p]\n",
        "\n",
        "        #State initialization during first call\n",
        "        if len(p_state) == 0:\n",
        "          p_state['memory_grad'] = dict()                 \n",
        "          p_state['average_grad'] = torch.zeros_like(p)\n",
        "          \n",
        "\n",
        "        grad_memo = p_state['memory_grad']\n",
        "        if self.batch_num not in grad_memo.keys():\n",
        "          grad_memo[self.batch_num] = grad.clone()\n",
        "\n",
        "        old_grad = grad_memo[self.batch_num]\n",
        "        p_state['average_grad'].add_(grad.sub(old_grad), alpha=1/self.n_sample)\n",
        "\n",
        "        # Update\n",
        "        if group['decay'] != 0.0:\n",
        "            p.add_(p, alpha=-group['decay'])\n",
        "        p.add_(p_state['average_grad'], alpha = -group['lr'])\n",
        "        p_state['memory_grad'][self.batch_num].copy_(grad)\n",
        "\n",
        "    return loss\n"
      ],
      "execution_count": null,
      "outputs": []
    },
    {
      "cell_type": "markdown",
      "metadata": {
        "id": "f-MIAc3NIYkd"
      },
      "source": [
        "## SVRG"
      ]
    },
    {
      "cell_type": "code",
      "metadata": {
        "id": "tjWPpg8Ba3VG"
      },
      "source": [
        "class SVRG(Optimizer):\n",
        "\n",
        "  def __init__(self, params, lr=0.1, decay=1e-6, n_avg=1, n_updates=100):\n",
        "    if lr <= 0.0:\n",
        "      raise ValueError(\"Invalid learning rate: {}\".format(lr))\n",
        "    \n",
        "    defaults = dict(lr=lr, decay=decay, n_avg=n_avg, n_updates=n_updates)\n",
        "    self._avg = 0\n",
        "    self._n_avg = n_avg\n",
        "    self._update = n_updates\n",
        "    self._n_updates = n_updates\n",
        "    super(SVRG, self).__init__(params, defaults)\n",
        "  \n",
        "\n",
        "  @torch.no_grad()\n",
        "  def step(self, closure=None):\n",
        "\n",
        "    for group in self.param_groups:\n",
        "      for p in group['params']:\n",
        "        if p.grad is None:\n",
        "          continue\n",
        "        grad = p.grad\n",
        "        if grad.is_sparse:\n",
        "          raise RuntimeError(\"SVRG does not support sparse gradients\")\n",
        "        \n",
        "        p_state = self.state[p]\n",
        "\n",
        "        #State initialization during first call\n",
        "        if len(p_state) == 0:\n",
        "          p_state['full_grad'] = torch.zeros_like(p)\n",
        "          p_state['mini_b_grad'] = torch.zeros_like(p)\n",
        "          p_state['old_update'] = p.clone()\n",
        "          p_state['cur_update'] = torch.zeros_like(p)\n",
        "        \n",
        "        n_avg = group['n_avg']\n",
        "        n_updates = group['n_updates']\n",
        "        \n",
        "        if self._avg < n_avg:\n",
        "          p_state['full_grad'].copy_(grad)\n",
        "        elif self._update == 0:\n",
        "          if group['decay'] != 0.0:\n",
        "            p.add_(p, alpha=-group['decay'])\n",
        "          p.add_(p_state['full_grad'], alpha=-group['lr']) # update step\n",
        "          p_state['cur_update'].copy_(p)\n",
        "        else:\n",
        "          p_state['mini_b_grad'].copy_(grad)\n",
        "          p.data = p_state['old_update'].data\n",
        "    \n",
        "    loss = None\n",
        "\n",
        "    if self._update != 0 and self._update < self._n_updates:\n",
        "      if closure is not None:\n",
        "        with torch.enable_grad():\n",
        "          loss = closure()\n",
        "      \n",
        "      for group in self.param_groups:\n",
        "        for p in group['params']:\n",
        "          if p.grad is None:\n",
        "            continue\n",
        "          grad_i = p.grad\n",
        "          p_state = self.state[p]\n",
        "          n_avg = group['n_avg']\n",
        "          n_updates = group['n_updates']\n",
        "\n",
        "          old_p = p_state['old_update']\n",
        "          p.data = p_state['cur_update'].data\n",
        "          \n",
        "          # update step\n",
        "          if group['decay'] != 0.0:\n",
        "            p.add_(p, alpha=-group['decay'])\n",
        "          p.add_(p_state['mini_b_grad'].sub(grad_i).add(p_state['full_grad']), alpha=-group['lr'])\n",
        "\n",
        "          p_state['cur_update'].copy_(p)\n",
        "          if self._update == n_updates-1:\n",
        "            p_state['old_update'].copy_(p)\n",
        "      \n",
        "    if self._avg < self._n_avg:\n",
        "      self._avg += 1\n",
        "      self._update = 0\n",
        "    else:\n",
        "      self._update += 1\n",
        "      if self._update == self._n_updates:\n",
        "        self._avg = 0\n",
        "\n",
        "    return loss\n"
      ],
      "execution_count": null,
      "outputs": []
    },
    {
      "cell_type": "markdown",
      "metadata": {
        "id": "d71m1lvXI9rg"
      },
      "source": [
        "# CNN Models"
      ]
    },
    {
      "cell_type": "code",
      "metadata": {
        "id": "_bS-gL2tJHVR"
      },
      "source": [
        "def cnn1():\n",
        "  return nn.Sequential(nn.ZeroPad2d((0,0,1,2)),\n",
        "                       nn.Conv2d(3,16,3), nn.ReLU(), \n",
        "                       nn.Conv2d(16,16,3), nn.ReLU(), nn.MaxPool2d(2),\n",
        "                       nn.ZeroPad2d((0,0,1,2)),\n",
        "                       nn.Conv2d(16,32,3), nn.ReLU(),\n",
        "                       nn.Conv2d(32,32,3), nn.ReLU(), nn.MaxPool2d(2),\n",
        "                       nn.Flatten(),\n",
        "                       nn.Linear(1120,128), nn.ReLU(),\n",
        "                       nn.Linear(128,10), nn.Softmax(dim=1))"
      ],
      "execution_count": null,
      "outputs": []
    },
    {
      "cell_type": "code",
      "metadata": {
        "id": "sEWcTrY4JIGv"
      },
      "source": [
        "def cnn2():\n",
        "  return nn.Sequential(nn.Conv2d(3,6,5), nn.ReLU(), nn.MaxPool2d(2,2),\n",
        "                       nn.Conv2d(6,16,5), nn.ReLU(), nn.MaxPool2d(2,2),\n",
        "                       nn.Flatten(),\n",
        "                       nn.Linear(16 * 5 * 5, 120), nn.ReLU(),\n",
        "                       nn.Linear(120, 84), nn.ReLU(),\n",
        "                       nn.Linear(84, 10))"
      ],
      "execution_count": null,
      "outputs": []
    },
    {
      "cell_type": "markdown",
      "metadata": {
        "id": "v45hFRGIJt5U"
      },
      "source": [
        "# Training"
      ]
    },
    {
      "cell_type": "markdown",
      "metadata": {
        "id": "-scxLQC8FKTI"
      },
      "source": [
        "## Creating the train  and test data set \n",
        "\n",
        "We will only work on 10% of the total images of the data set."
      ]
    },
    {
      "cell_type": "code",
      "metadata": {
        "id": "16vD9PJ_Wuy5"
      },
      "source": [
        "# Reduce the dataset\n",
        "trainset.data = trainset.data[:5000]\n",
        "trainset.targets = trainset.targets[:5000]\n",
        "\n",
        "trainloader = torch.utils.data.DataLoader(trainset, batch_size=len(trainset.targets),\n",
        "\t\t\t\t\t\t\t\t\t\t\tshuffle=False, num_workers=1)\n",
        "\n",
        "for data in trainloader:\n",
        "  inputs, labels = data\n",
        "  X_train = inputs\n",
        "  y_train = labels"
      ],
      "execution_count": null,
      "outputs": []
    },
    {
      "cell_type": "code",
      "metadata": {
        "colab": {
          "base_uri": "https://localhost:8080/"
        },
        "id": "5-pIHbdT-pe9",
        "outputId": "48394edd-0a33-444d-e3f2-ea834a95cd6e"
      },
      "source": [
        "X_train.shape"
      ],
      "execution_count": null,
      "outputs": [
        {
          "output_type": "execute_result",
          "data": {
            "text/plain": [
              "torch.Size([5000, 3, 32, 32])"
            ]
          },
          "metadata": {
            "tags": []
          },
          "execution_count": 12
        }
      ]
    },
    {
      "cell_type": "code",
      "metadata": {
        "id": "Xmke7JXsc_DI"
      },
      "source": [
        "# Divide the training set in batches\n",
        "X_batches = []\n",
        "y_batches = []\n",
        "trainloader = torch.utils.data.DataLoader(trainset, batch_size=32,\n",
        "\t\t\t\t\t\t\t\t\t\t\tshuffle=True, num_workers=1)\n",
        "\n",
        "for data in trainloader:\n",
        "  inputs, labels = data\n",
        "  X_batches.append(inputs.float())\n",
        "  y_batches.append(labels.long())"
      ],
      "execution_count": null,
      "outputs": []
    },
    {
      "cell_type": "code",
      "metadata": {
        "colab": {
          "base_uri": "https://localhost:8080/"
        },
        "id": "oFP4tIf7-sxO",
        "outputId": "508c51d9-b672-4656-ee78-b4ddd08767a2"
      },
      "source": [
        "print(X_batches[0].shape)\n",
        "print(len(y_batches))"
      ],
      "execution_count": null,
      "outputs": [
        {
          "output_type": "stream",
          "text": [
            "torch.Size([32, 3, 32, 32])\n",
            "157\n"
          ],
          "name": "stdout"
        }
      ]
    },
    {
      "cell_type": "code",
      "metadata": {
        "id": "5B25MioXIVjD"
      },
      "source": [
        "# Same for test set\n",
        "X_test_batches = []\n",
        "y_test_batches = []\n",
        "testloader = torch.utils.data.DataLoader(testset, batch_size=100,\n",
        "\t\t\t\t\t\t\t\t\t\t\tshuffle=True, num_workers=1)\n",
        "\n",
        "for data in testloader:\n",
        "  inputs, labels = data\n",
        "  X_test_batches.append(inputs.float())\n",
        "  y_test_batches.append(labels.long())"
      ],
      "execution_count": null,
      "outputs": []
    },
    {
      "cell_type": "code",
      "metadata": {
        "colab": {
          "base_uri": "https://localhost:8080/"
        },
        "id": "LmIsvUZmJFYz",
        "outputId": "598791c8-c16f-4adb-ab21-01b25ed66f39"
      },
      "source": [
        "print(X_test_batches[0].shape)\n",
        "print(len(y_test_batches))"
      ],
      "execution_count": null,
      "outputs": [
        {
          "output_type": "stream",
          "text": [
            "torch.Size([100, 3, 32, 32])\n",
            "100\n"
          ],
          "name": "stdout"
        }
      ]
    },
    {
      "cell_type": "code",
      "metadata": {
        "colab": {
          "base_uri": "https://localhost:8080/"
        },
        "id": "m6nyoK92USFu",
        "outputId": "0c6bb454-697e-48a5-ba11-6e1b3e2dcd5b"
      },
      "source": [
        "# GD Training Loop\n",
        "model_GD = cnn2()\n",
        "optimizer = optim.SGD(model_GD.parameters(), lr=0.1)\n",
        "criterion = nn.CrossEntropyLoss()\n",
        "\n",
        "#loss_gd = []\n",
        "loss_gd_test = []\n",
        "#acc_gd = []\n",
        "acc_gd_test = []\n",
        "n_epoch = 50\n",
        "\n",
        "\n",
        "\n",
        "for num_epoch in range(n_epoch):\n",
        "  optimizer.zero_grad()\n",
        "  hat_y = model_GD(X_train)\n",
        "  loss = criterion(hat_y, y_train)\n",
        "  loss.backward()\n",
        "  optimizer.step()\n",
        "  #_, pred = torch.max(hat_y, 1)\n",
        "  #acc = torch.sum(pred == y_train) * 100 / len(y_train)\n",
        "  #acc_gd.append(acc)\n",
        "  #loss_gd.append(loss)\n",
        "  # validation loss and acc\n",
        "  loss_val = 0\n",
        "  acc_val = 0\n",
        "  for i in range(len(y_test_batches)):\n",
        "    input, target = X_test_batches[i], y_test_batches[i]\n",
        "    hat_y_test = model_GD(input)\n",
        "    loss = criterion(hat_y_test, target)\n",
        "    loss_val += loss.item()\n",
        "    _, pred = torch.max(hat_y_test, 1)\n",
        "    acc = torch.sum(pred == target) * 100 / len(target)\n",
        "    acc_val += acc.item()\n",
        "  loss_val /= len(y_test_batches)\n",
        "  acc_val /= len(y_test_batches)\n",
        "  acc_gd_test.append(acc_val)\n",
        "  loss_gd_test.append(loss_val)\n",
        "\n",
        "\n",
        "  if num_epoch % 10 == 0 or num_epoch == n_epoch-1:\n",
        "    print(\"epoch {}, loss {}, acc {}\".format(num_epoch, loss_gd_test[-1], round(acc_gd_test[-1],3)))\n",
        "\n",
        "#plt.plot(loss_gd)\n",
        "#plt.xlabel(\"epochs\")\n",
        "#plt.ylabel(\"loss\")"
      ],
      "execution_count": null,
      "outputs": [
        {
          "output_type": "stream",
          "text": [
            "epoch 0, loss 2.3048373246192932, acc 11.31\n",
            "epoch 10, loss 2.3038151550292967, acc 11.64\n",
            "epoch 20, loss 2.3028358674049376, acc 12.33\n",
            "epoch 30, loss 2.3018269085884095, acc 13.63\n",
            "epoch 40, loss 2.300623815059662, acc 15.09\n",
            "epoch 49, loss 2.2992160534858703, acc 15.84\n"
          ],
          "name": "stdout"
        }
      ]
    },
    {
      "cell_type": "code",
      "metadata": {
        "id": "WynR7G9bD4lL",
        "colab": {
          "base_uri": "https://localhost:8080/"
        },
        "outputId": "f1308be4-39b0-4d4f-91f9-877a6f07b96e"
      },
      "source": [
        "# SGD Training Loop\n",
        "\n",
        "model_SGD = cnn2()\n",
        "optimizer = optim.SGD(model_SGD.parameters(), lr=0.1)\n",
        "criterion = nn.CrossEntropyLoss()\n",
        "\n",
        "#loss_sgd = []\n",
        "#acc_sgd = []\n",
        "loss_sgd_test = []\n",
        "acc_sgd_test = []\n",
        "n_epoch = 50\n",
        "\n",
        "for num_epoch in range(n_epoch):\n",
        "  for i in range(len(y_batches)):\n",
        "    j = np.random.randint(0, len(y_batches))\n",
        "    input, target = X_batches[j], y_batches[j]\n",
        "    optimizer.zero_grad()\n",
        "    hat_y = model_SGD(input)\n",
        "    loss = criterion(hat_y, target)\n",
        "    loss.backward() \n",
        "    optimizer.step()\n",
        "  # validation loss and accuracy\n",
        "  loss_val = 0\n",
        "  acc_val = 0\n",
        "  for i in range(len(y_test_batches)):\n",
        "    input, target = X_test_batches[i], y_test_batches[i]\n",
        "    hat_y_test = model_SGD(input)\n",
        "    loss = criterion(hat_y_test, target)\n",
        "    loss_val += loss.item()\n",
        "    _, pred = torch.max(hat_y_test, 1)\n",
        "    acc = torch.sum(pred == target) * 100 / len(target)\n",
        "    acc_val += acc.item()\n",
        "  loss_val /= len(y_test_batches)\n",
        "  acc_val /= len(y_test_batches)\n",
        "  acc_sgd_test.append(acc_val)\n",
        "  loss_sgd_test.append(loss_val)\n",
        "\n",
        "  \n",
        "  if num_epoch % 10 == 0 or num_epoch == n_epoch-1:\n",
        "    print(\"epoch {}, loss {}, acc {}\".format(num_epoch, loss_sgd_test[-1], acc_sgd_test[-1]))\n",
        "\n",
        "#plt.plot(loss_sgd)"
      ],
      "execution_count": null,
      "outputs": [
        {
          "output_type": "stream",
          "text": [
            "epoch 0, loss 2.0967545354366304, acc 21.43\n",
            "epoch 10, loss 1.6170340812206268, acc 45.67\n",
            "epoch 20, loss 2.8221309185028076, acc 44.73\n",
            "epoch 30, loss 4.041049716472625, acc 44.19\n",
            "epoch 40, loss 4.8885510993003845, acc 42.41\n",
            "epoch 49, loss 4.946982786655426, acc 41.62\n"
          ],
          "name": "stdout"
        }
      ]
    },
    {
      "cell_type": "code",
      "metadata": {
        "colab": {
          "base_uri": "https://localhost:8080/"
        },
        "id": "pkhSvsf9Dbxc",
        "outputId": "ab31103b-446d-461b-df36-0263da60048c"
      },
      "source": [
        "# SAG Training Loop\n",
        "\n",
        "model_SAG = cnn2()\n",
        "optimizer = SAG(model_SAG.parameters(), lr=0.1, decay=1e-6, n=len(y_batches))\n",
        "criterion = nn.CrossEntropyLoss()\n",
        "\n",
        "#loss_sag = []\n",
        "#acc_sag = []\n",
        "loss_sag_test = []\n",
        "acc_sag_test = []\n",
        "n_epoch = 50\n",
        "\n",
        "\n",
        "for num_epoch in range(n_epoch):\n",
        "  for i in range(len(y_batches)):\n",
        "    j = np.random.randint(0, len(y_batches))\n",
        "    optimizer.set_batch_num(j)\n",
        "    input, target = X_batches[j], y_batches[j]\n",
        "    optimizer.zero_grad()\n",
        "    hat_y = model_SAG(input)\n",
        "    loss = criterion(hat_y, target)\n",
        "    loss.backward() \n",
        "    optimizer.step()\n",
        "  # validation loss and accuracy\n",
        "  loss_val = 0\n",
        "  acc_val = 0\n",
        "  for i in range(len(y_test_batches)):\n",
        "    input, target = X_test_batches[i], y_test_batches[i]\n",
        "    hat_y_test = model_SAG(input)\n",
        "    loss = criterion(hat_y_test, target)\n",
        "    loss_val += loss.item()\n",
        "    _, pred = torch.max(hat_y_test, 1)\n",
        "    acc = torch.sum(pred == target) * 100 / len(target)\n",
        "    acc_val += acc.item()\n",
        "  loss_val /= len(y_test_batches)\n",
        "  acc_val /= len(y_test_batches)\n",
        "  acc_sag_test.append(acc_val)\n",
        "  loss_sag_test.append(loss_val)\n",
        "\n",
        "  if num_epoch % 10 == 0 or num_epoch == n_epoch-1:\n",
        "    print(\"epoch {}, loss {}, acc {}\".format(num_epoch, loss_sag_test[-1], acc_sag_test[-1]))\n",
        "\n",
        "\n",
        "#plt.plot(loss_sag)\n",
        "#plt.xlabel(\"epochs\")\n",
        "#plt.ylabel(\"loss\")\n"
      ],
      "execution_count": null,
      "outputs": [
        {
          "output_type": "stream",
          "text": [
            "epoch 0, loss 2.304345943927765, acc 10.03\n",
            "epoch 10, loss 1.7759758818149567, acc 34.56\n",
            "epoch 20, loss 1.8765591835975648, acc 40.82\n",
            "epoch 30, loss 1.9855053305625916, acc 34.0\n",
            "epoch 40, loss 3.3823411583900453, acc 39.47\n",
            "epoch 49, loss 3.2320641136169432, acc 36.77\n"
          ],
          "name": "stdout"
        }
      ]
    },
    {
      "cell_type": "code",
      "metadata": {
        "colab": {
          "base_uri": "https://localhost:8080/"
        },
        "id": "NWCUybZJV-P4",
        "outputId": "7b8675f9-19f4-4525-9c8e-0e6d7d785b25"
      },
      "source": [
        "# ASGD Training Loop\n",
        "\n",
        "model_ASGD = cnn2()\n",
        "optimizer = optim.ASGD(model_ASGD.parameters(), lr=0.1, lambd=1e-6)\n",
        "criterion = nn.CrossEntropyLoss()\n",
        "\n",
        "#loss_asgd = []\n",
        "#acc_asgd = []\n",
        "loss_asgd_test = []\n",
        "acc_asgd_test = []\n",
        "n_epoch = 50\n",
        "\n",
        "\n",
        "for num_epoch in range(n_epoch):\n",
        "  for i in range(len(y_batches)):\n",
        "    j = np.random.randint(0, len(y_batches))\n",
        "    input = X_batches[j]\n",
        "    target = y_batches[j]\n",
        "    optimizer.zero_grad()\n",
        "    hat_y = model_ASGD(input)\n",
        "    loss = criterion(hat_y, target)\n",
        "    loss.backward() \n",
        "    optimizer.step()\n",
        "  # validation loss and accuracy\n",
        "  loss_val = 0\n",
        "  acc_val = 0\n",
        "  for i in range(len(y_test_batches)):\n",
        "    input, target = X_test_batches[i], y_test_batches[i]\n",
        "    hat_y_test = model_ASGD(input)\n",
        "    loss = criterion(hat_y_test, target)\n",
        "    loss_val += loss.item()\n",
        "    _, pred = torch.max(hat_y_test, 1)\n",
        "    acc = torch.sum(pred == target) * 100 / len(target)\n",
        "    acc_val += acc.item()\n",
        "  loss_val /= len(y_test_batches)\n",
        "  acc_val /= len(y_test_batches)\n",
        "  acc_asgd_test.append(acc_val)\n",
        "  loss_asgd_test.append(loss_val)\n",
        "\n",
        "\n",
        "  if num_epoch % 5 == 0 or num_epoch == n_epoch-1:\n",
        "    print(\"epoch {}, loss {}, acc {}\".format(num_epoch, loss_asgd_test[-1], acc_asgd_test[-1]))\n",
        "\n",
        "\n",
        "#plt.plot(loss_asgd)\n",
        "#plt.xlabel(\"epochs\")\n",
        "#plt.ylabel(\"loss\")"
      ],
      "execution_count": null,
      "outputs": [
        {
          "output_type": "stream",
          "text": [
            "epoch 0, loss 2.1657098960876464, acc 21.46\n",
            "epoch 5, loss 1.7729805552959441, acc 36.44\n",
            "epoch 10, loss 1.5694716465473175, acc 45.05\n",
            "epoch 15, loss 2.1080996370315552, acc 43.64\n",
            "epoch 20, loss 3.3081426215171814, acc 39.65\n",
            "epoch 25, loss 3.3980148434638977, acc 41.37\n",
            "epoch 30, loss 3.893684709072113, acc 42.16\n",
            "epoch 35, loss 4.550903391838074, acc 40.11\n",
            "epoch 40, loss 4.71772914648056, acc 40.46\n",
            "epoch 45, loss 5.817176427841186, acc 39.81\n",
            "epoch 49, loss 5.1421347832679745, acc 40.4\n"
          ],
          "name": "stdout"
        }
      ]
    },
    {
      "cell_type": "code",
      "metadata": {
        "id": "Dl_M_HAXC0RW",
        "colab": {
          "base_uri": "https://localhost:8080/"
        },
        "outputId": "d940fb77-eefa-4686-9444-5672bd845b13"
      },
      "source": [
        "# SVRG Training Loop\n",
        "\n",
        "model_SVRG = cnn2()\n",
        "optimizer = SVRG(model_SVRG.parameters(), lr=0.1, decay=1e-6, n_avg=1, n_updates=len(y_batches))\n",
        "# n_avg equals to number of steps to compute full batch gradient\n",
        "# n_updates equals to batches' number\n",
        "\n",
        "#loss_svrg = []\n",
        "#acc_svrg = []\n",
        "loss_svrg_test = []\n",
        "acc_svrg_test = []\n",
        "n_epoch = 50\n",
        "\n",
        "optimizer.zero_grad()\n",
        "hat_y = model_SVRG(X_train)\n",
        "loss = criterion(hat_y, y_train)\n",
        "loss.backward()\n",
        "optimizer.step()\n",
        "\n",
        "for num_epoch in range(n_epoch):\n",
        "  if num_epoch != 0:\n",
        "    optimizer.zero_grad()\n",
        "    hat_y = model_SVRG(X_train)\n",
        "    loss = criterion(hat_y, y_train)\n",
        "    loss.backward()\n",
        "    optimizer.step()\n",
        "    \n",
        "  for i in range(len(y_batches)):\n",
        "    j = np.random.randint(0, len(y_batches))\n",
        "    input = X_batches[j]\n",
        "    target = y_batches[j]\n",
        "    optimizer.zero_grad()\n",
        "    hat_y = model_SVRG(input)\n",
        "    loss = criterion(hat_y, target)\n",
        "    loss.backward()\n",
        "    def closure():\n",
        "      optimizer.zero_grad()\n",
        "      output = model_SVRG(input)\n",
        "      loss = criterion(output, target)\n",
        "      loss.backward()\n",
        "      return loss\n",
        "    optimizer.step(closure)\n",
        "\n",
        "  # validation loss and accuracy\n",
        "  loss_val = 0\n",
        "  acc_val = 0\n",
        "  for i in range(len(y_test_batches)):\n",
        "    input, target = X_test_batches[i], y_test_batches[i]\n",
        "    hat_y_test = model_SVRG(input)\n",
        "    loss = criterion(hat_y_test, target)\n",
        "    loss_val += loss.item()\n",
        "    _, pred = torch.max(hat_y_test, 1)\n",
        "    acc = torch.sum(pred == target) * 100 / len(target)\n",
        "    acc_val += acc.item()\n",
        "  loss_val /= len(y_test_batches)\n",
        "  acc_val /= len(y_test_batches)\n",
        "  acc_svrg_test.append(acc_val)\n",
        "  loss_svrg_test.append(loss_val)\n",
        "\n",
        "  if num_epoch % 10 == 0 or num_epoch == n_epoch-1:\n",
        "    print(\"epoch {}, loss {}, acc {}\".format(num_epoch, loss_svrg_test[-1], acc_svrg_test[-1]))\n",
        "\n",
        "\n",
        "\n",
        "#plt.plot(loss_svrg)\n",
        "#plt.xlabel(\"epochs\")\n",
        "#plt.ylabel(\"loss\")"
      ],
      "execution_count": null,
      "outputs": [
        {
          "output_type": "stream",
          "text": [
            "epoch 0, loss 2.0561415255069733, acc 24.49\n",
            "epoch 10, loss 1.706016013622284, acc 43.33\n",
            "epoch 20, loss 2.4522072505950927, acc 39.41\n",
            "epoch 30, loss 3.264305580854416, acc 39.4\n",
            "epoch 40, loss 3.870604956150055, acc 40.19\n",
            "epoch 49, loss 3.3021604800224305, acc 38.16\n"
          ],
          "name": "stdout"
        }
      ]
    },
    {
      "cell_type": "code",
      "metadata": {
        "id": "kMVIwIvIDYij",
        "colab": {
          "base_uri": "https://localhost:8080/",
          "height": 282
        },
        "outputId": "7b8cd392-c807-4202-80ba-72b650e8f340"
      },
      "source": [
        "# Comparison of validation score\n",
        "\n",
        "sns.set_style(\"whitegrid\")\n",
        "loss_l = [loss_gd_test, loss_sgd_test, loss_sag_test, loss_asgd_test, loss_svrg_test]\n",
        "acc_l = [acc_gd_test, acc_sgd_test, acc_sag_test, acc_asgd_test, acc_svrg_test]\n",
        "opt_names = [\"GD\",\"SGD\",\"SAG\",\"ASGD\",\"SVRG\"]\n",
        "\n",
        "plt.figure(figsize=(14,4))\n",
        "plt.subplot(1,2,1)\n",
        "\n",
        "for loss,name in zip(loss_l,opt_names):\n",
        "  plt.plot(loss, label=name)\n",
        "  plt.xlabel(\"epochs\")\n",
        "  plt.ylabel(\"loss\")\n",
        "plt.legend()\n",
        "\n",
        "plt.subplot(1,2,2)\n",
        "\n",
        "for acc, name in zip(acc_l,opt_names):\n",
        "  plt.plot(acc, label=name)\n",
        "  plt.xlabel(\"epochs\")\n",
        "  plt.ylabel(\"accuracy\")\n",
        "plt.legend()\n",
        "\n",
        "plt.savefig(\"comparison on test set\")"
      ],
      "execution_count": null,
      "outputs": [
        {
          "output_type": "display_data",
          "data": {
            "image/png": "[encoded data removed]",
            "text/plain": [
              "<Figure size 1008x288 with 2 Axes>"
            ]
          },
          "metadata": {
            "tags": []
          }
        }
      ]
    },
    {
      "cell_type": "code",
      "metadata": {
        "id": "X--oWrZ3DaVE"
      },
      "source": [
        ""
      ],
      "execution_count": null,
      "outputs": []
    },
    {
      "cell_type": "markdown",
      "metadata": {
        "id": "TtuEswzfC0e2"
      },
      "source": [
        "## Tests"
      ]
    },
    {
      "cell_type": "code",
      "metadata": {
        "id": "BvpCxpMB1oqL",
        "colab": {
          "base_uri": "https://localhost:8080/"
        },
        "outputId": "332f027b-f09d-4ce6-9cc1-6a0941bc9c73"
      },
      "source": [
        "model = cnn2()\n",
        "optimizer = SVRG(model.parameters(), lr=0.1, decay=0, n_avg=1, n_updates=len(y_batches))\n",
        "criterion = nn.CrossEntropyLoss()\n",
        "loss_l_svrg, acc_l_svrg = train_model(X_train, y_train, model, optimizer, criterion, opt_name=\"SVRG\", n_batches=len(y_batches), n_epoch=50)"
      ],
      "execution_count": null,
      "outputs": [
        {
          "output_type": "stream",
          "text": [
            "epoch 1, loss 1.8396371603012085, acc 30.72%\n",
            "epoch 11, loss 2.04341459274292, acc 24.3%\n",
            "epoch 21, loss 2.3177571296691895, acc 13.42%\n",
            "epoch 31, loss 2.0301170349121094, acc 24.78%\n"
          ],
          "name": "stdout"
        }
      ]
    },
    {
      "cell_type": "code",
      "metadata": {
        "id": "-sDCta3b1rbA"
      },
      "source": [
        "model = cnn2()\n",
        "optimizer = optim.SGD(model.parameters(), lr=0.1)\n",
        "criterion = nn.CrossEntropyLoss()\n",
        "loss_l_sgd, acc_l_sgd = train_model(X_train, y_train, model, optimizer, opt_name=\"SGD\", lr=0.1, decay=0, n_batches=len(X_batches), n_epoch=50)"
      ],
      "execution_count": null,
      "outputs": []
    },
    {
      "cell_type": "code",
      "metadata": {
        "id": "2EFyiH1Q1urh"
      },
      "source": [
        "model = cnn2()\n",
        "optimizer = optim.SGD(model.parameters(), lr=0.1)\n",
        "criterion = nn.CrossEntropyLoss()\n",
        "loss_l_sgd, acc_l_sgd = train_model(X_train, y_train, model, optimizer, opt_name=\"SGD\", lr=0.1, decay=0, n_batches=len(X_batches), n_epoch=50)"
      ],
      "execution_count": null,
      "outputs": []
    },
    {
      "cell_type": "code",
      "metadata": {
        "id": "nPrmZIvC1vgt"
      },
      "source": [
        "model = cnn2()\n",
        "optimizer = optim.SGD(model.parameters(), lr=0.1)\n",
        "criterion = nn.CrossEntropyLoss()\n",
        "loss_l_sgd, acc_l_sgd = train_model(X_train, y_train, model, optimizer, opt_name=\"SGD\", lr=0.1, decay=0, n_batches=len(X_batches), n_epoch=50)"
      ],
      "execution_count": null,
      "outputs": []
    },
    {
      "cell_type": "markdown",
      "metadata": {
        "id": "FcSruqwbLQje"
      },
      "source": [
        "# Comparison on test set"
      ]
    },
    {
      "cell_type": "code",
      "metadata": {
        "id": "GVaPshB_LYqG"
      },
      "source": [
        "# Reduce the dataset\n",
        "#testset.data = testset.data[:5000]\n",
        "#trainset.targets = trainset.targets[:5000]\n",
        "\n",
        "testloader = torch.utils.data.DataLoader(testset, batch_size=len(testset.targets),\n",
        "\t\t\t\t\t\t\t\t\t\t\tshuffle=False, num_workers=1)\n",
        "\n",
        "for data in testloader:\n",
        "  inputs, labels = data\n",
        "  X_test = inputs\n",
        "  y_test = labels"
      ],
      "execution_count": null,
      "outputs": []
    },
    {
      "cell_type": "code",
      "metadata": {
        "colab": {
          "base_uri": "https://localhost:8080/"
        },
        "id": "osMazKNw6dpe",
        "outputId": "43a25b1f-f6a3-4b25-e803-44aaed491b16"
      },
      "source": [
        "print(X_test.shape)"
      ],
      "execution_count": null,
      "outputs": [
        {
          "output_type": "stream",
          "text": [
            "torch.Size([10000, 3, 32, 32])\n"
          ],
          "name": "stdout"
        }
      ]
    },
    {
      "cell_type": "code",
      "metadata": {
        "id": "A_9W272pLZKq"
      },
      "source": [
        "# Divide the training set in batches\n",
        "X_batches = []\n",
        "y_batches = []\n",
        "\n",
        "testloader = torch.utils.data.DataLoader(testset, batch_size=32,\n",
        "\t\t\t\t\t\t\t\t\t\t\tshuffle=True, num_workers=1)\n",
        "\n",
        "for data in testloader:\n",
        "  inputs, labels = data\n",
        "  X_batches.append(inputs.float())\n",
        "  y_batches.append(labels.long())"
      ],
      "execution_count": null,
      "outputs": []
    },
    {
      "cell_type": "code",
      "metadata": {
        "colab": {
          "base_uri": "https://localhost:8080/"
        },
        "id": "XxcuXGYf6uT4",
        "outputId": "fa6365d0-71c9-4766-d3d9-85e0fdfd524f"
      },
      "source": [
        "# GD \n",
        "#optimizer = optim.SGD(model_GD.parameters(), lr=0.1)\n",
        "criterion = nn.CrossEntropyLoss()\n",
        "\n",
        "hat_y = model_GD(X_test)\n",
        "loss = criterion(hat_y, y_test)\n",
        "_, pred = torch.max(hat_y, 1)\n",
        "acc = torch.sum(pred == y_test) * 100 / len(y_test)\n",
        "\n",
        "print(acc)"
      ],
      "execution_count": null,
      "outputs": [
        {
          "output_type": "stream",
          "text": [
            "tensor(11.7800)\n"
          ],
          "name": "stdout"
        }
      ]
    },
    {
      "cell_type": "code",
      "metadata": {
        "colab": {
          "base_uri": "https://localhost:8080/"
        },
        "id": "VBr8B3X8D-60",
        "outputId": "43488389-dcf5-4d99-bb83-6b40f8fdc039"
      },
      "source": [
        "# SGD \n",
        "#optimizer = optim.SGD(model_SGD.parameters(), lr=0.1)\n",
        "criterion = nn.CrossEntropyLoss()\n",
        "\n",
        "hat_y = model_SGD(X_test)\n",
        "loss = criterion(hat_y, y_test)\n",
        "_, pred = torch.max(hat_y, 1)\n",
        "acc = torch.sum(pred == y_test) * 100 / len(y_test)\n",
        "\n",
        "print(acc)"
      ],
      "execution_count": null,
      "outputs": [
        {
          "output_type": "stream",
          "text": [
            "tensor(41.6200)\n"
          ],
          "name": "stdout"
        }
      ]
    },
    {
      "cell_type": "code",
      "metadata": {
        "colab": {
          "base_uri": "https://localhost:8080/"
        },
        "id": "71TT95MkEl39",
        "outputId": "24235ead-62b2-4800-a1a5-8693b5ab24f8"
      },
      "source": [
        "# SAG \n",
        "#optimizer = optim.SGD(model_SGD.parameters(), lr=0.1)\n",
        "criterion = nn.CrossEntropyLoss()\n",
        "\n",
        "hat_y = model_SAG(X_test)\n",
        "loss = criterion(hat_y, y_test)\n",
        "_, pred = torch.max(hat_y, 1)\n",
        "acc = torch.sum(pred == y_test) * 100 / len(y_test)\n",
        "\n",
        "print(acc)"
      ],
      "execution_count": null,
      "outputs": [
        {
          "output_type": "stream",
          "text": [
            "tensor(39.2900)\n"
          ],
          "name": "stdout"
        }
      ]
    },
    {
      "cell_type": "code",
      "metadata": {
        "colab": {
          "base_uri": "https://localhost:8080/"
        },
        "id": "e4dbtqoVEuBq",
        "outputId": "da29823e-abda-429e-b333-5a8c82d2a67a"
      },
      "source": [
        "# ASGD \n",
        "#optimizer = optim.SGD(model_SGD.parameters(), lr=0.1)\n",
        "criterion = nn.CrossEntropyLoss()\n",
        "\n",
        "hat_y = model_ASGD(X_test)\n",
        "loss = criterion(hat_y, y_test)\n",
        "_, pred = torch.max(hat_y, 1)\n",
        "acc = torch.sum(pred == y_test) * 100 / len(y_test)\n",
        "\n",
        "print(acc)"
      ],
      "execution_count": null,
      "outputs": [
        {
          "output_type": "stream",
          "text": [
            "tensor(40.9900)\n"
          ],
          "name": "stdout"
        }
      ]
    },
    {
      "cell_type": "code",
      "metadata": {
        "colab": {
          "base_uri": "https://localhost:8080/"
        },
        "id": "RKc9n3YbE3hf",
        "outputId": "d6e7193e-bd90-464d-a370-42a37db8e438"
      },
      "source": [
        "# SVRG \n",
        "#optimizer = optim.SGD(model_SGD.parameters(), lr=0.1)\n",
        "criterion = nn.CrossEntropyLoss()\n",
        "\n",
        "hat_y = model_SVRG(X_test)\n",
        "loss = criterion(hat_y, y_test)\n",
        "_, pred = torch.max(hat_y, 1)\n",
        "acc = torch.sum(pred == y_test) * 100 / len(y_test)\n",
        "\n",
        "print(acc)"
      ],
      "execution_count": null,
      "outputs": [
        {
          "output_type": "stream",
          "text": [
            "tensor(38.1600)\n"
          ],
          "name": "stdout"
        }
      ]
    }
  ]
}